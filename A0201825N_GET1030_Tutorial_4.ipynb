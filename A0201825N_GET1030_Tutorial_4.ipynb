{
  "nbformat": 4,
  "nbformat_minor": 0,
  "metadata": {
    "colab": {
      "name": "A0201825N GET1030 Tutorial 4.ipynb",
      "provenance": []
    },
    "kernelspec": {
      "name": "python3",
      "display_name": "Python 3"
    }
  },
  "cells": [
    {
      "cell_type": "code",
      "metadata": {
        "colab": {
          "base_uri": "https://localhost:8080/"
        },
        "id": "tYXea0sLBDl2",
        "outputId": "7cbc3956-6929-41fb-e0aa-033e37130375"
      },
      "source": [
        "# Mount your google drive in google colab\r\n",
        "from google.colab import drive\r\n",
        "drive.mount('/content/drive')"
      ],
      "execution_count": 1,
      "outputs": [
        {
          "output_type": "stream",
          "text": [
            "Mounted at /content/drive\n"
          ],
          "name": "stdout"
        }
      ]
    },
    {
      "cell_type": "code",
      "metadata": {
        "colab": {
          "base_uri": "https://localhost:8080/"
        },
        "id": "Z9frsoTeBkfR",
        "outputId": "1d655e98-2ff0-4b0d-e3be-ce96027359a2"
      },
      "source": [
        "# Insert the directory\r\n",
        "!ls \"/content/drive/My Drive/Colab Notebooks\""
      ],
      "execution_count": 7,
      "outputs": [
        {
          "output_type": "stream",
          "text": [
            "'A0201825N - GET1030 Tutorial 3.ipynb'\t'Master 2018'\n",
            "'A0201825N GET1030 Tutorial 4.ipynb'\t networkprocessing.py\n",
            "'F1 notebook.ipynb'\t\t\t __pycache__\n",
            " fob\t\t\t\t\t Shakespeare-completed.ipynb\n",
            "'GET1030 Fundamentals.ipynb'\t\t textprocessing.py\n",
            "'GET1030 Tutorial 2.ipynb'\t\t Untitled0.ipynb\n",
            "'GET1030 Wk 8.ipynb'\t\t\t Untitled1.ipynb\n",
            " harrypotter\t\t\t\t Untitled2.ipynb\n"
          ],
          "name": "stdout"
        }
      ]
    },
    {
      "cell_type": "code",
      "metadata": {
        "id": "hSd6yNVjBmp3"
      },
      "source": [
        "import pandas as pd\r\n",
        "import seaborn as sns"
      ],
      "execution_count": 3,
      "outputs": []
    },
    {
      "cell_type": "code",
      "metadata": {
        "id": "Wi5tTfLkBob-"
      },
      "source": [
        "!python3 \"/content/drive/My Drive/Colab Notebooks/networkprocessing.py\""
      ],
      "execution_count": 5,
      "outputs": []
    },
    {
      "cell_type": "code",
      "metadata": {
        "id": "UxvVFY4ACAYS"
      },
      "source": [
        "import sys\r\n",
        "sys.path.append('/content/drive/My Drive/Colab Notebooks')"
      ],
      "execution_count": 9,
      "outputs": []
    },
    {
      "cell_type": "code",
      "metadata": {
        "id": "caHfIqBlDKMh"
      },
      "source": [
        "import networkprocessing as np"
      ],
      "execution_count": 10,
      "outputs": []
    },
    {
      "cell_type": "code",
      "metadata": {
        "colab": {
          "base_uri": "https://localhost:8080/"
        },
        "id": "yU_pSvXkD3Yv",
        "outputId": "6c4310f2-81f4-4b11-8602-57c544a68c0e"
      },
      "source": [
        "np.make_network(\"/content/drive/My Drive/Colab Notebooks/harrypotter\")"
      ],
      "execution_count": 11,
      "outputs": [
        {
          "output_type": "stream",
          "text": [
            "Processing /content/drive/My Drive/Colab Notebooks/harrypotter/recent.txt\n",
            "Processing /content/drive/My Drive/Colab Notebooks/harrypotter/older.txt\n"
          ],
          "name": "stdout"
        }
      ]
    },
    {
      "cell_type": "code",
      "metadata": {
        "colab": {
          "base_uri": "https://localhost:8080/",
          "height": 111
        },
        "id": "IctjtS2CFvLZ",
        "outputId": "8674508f-67c4-4d12-99a8-42efe9d5a926"
      },
      "source": [
        "df = pd.read_excel(\"/content/drive/My Drive/Colab Notebooks/harrypotter_analysis/networkInfo.xlsx\")\r\n",
        "df"
      ],
      "execution_count": 12,
      "outputs": [
        {
          "output_type": "execute_result",
          "data": {
            "text/html": [
              "<div>\n",
              "<style scoped>\n",
              "    .dataframe tbody tr th:only-of-type {\n",
              "        vertical-align: middle;\n",
              "    }\n",
              "\n",
              "    .dataframe tbody tr th {\n",
              "        vertical-align: top;\n",
              "    }\n",
              "\n",
              "    .dataframe thead th {\n",
              "        text-align: right;\n",
              "    }\n",
              "</style>\n",
              "<table border=\"1\" class=\"dataframe\">\n",
              "  <thead>\n",
              "    <tr style=\"text-align: right;\">\n",
              "      <th></th>\n",
              "      <th>network_id</th>\n",
              "      <th>nodes</th>\n",
              "      <th>edges</th>\n",
              "      <th>avg path length</th>\n",
              "      <th>avg degree</th>\n",
              "      <th>avg weighted degree</th>\n",
              "      <th>diameter</th>\n",
              "      <th>radius</th>\n",
              "      <th>density</th>\n",
              "    </tr>\n",
              "  </thead>\n",
              "  <tbody>\n",
              "    <tr>\n",
              "      <th>0</th>\n",
              "      <td>recent</td>\n",
              "      <td>6</td>\n",
              "      <td>13</td>\n",
              "      <td>1.133333</td>\n",
              "      <td>4.333333</td>\n",
              "      <td>12.000000</td>\n",
              "      <td>2</td>\n",
              "      <td>1</td>\n",
              "      <td>0.866667</td>\n",
              "    </tr>\n",
              "    <tr>\n",
              "      <th>1</th>\n",
              "      <td>older</td>\n",
              "      <td>6</td>\n",
              "      <td>12</td>\n",
              "      <td>1.200000</td>\n",
              "      <td>4.000000</td>\n",
              "      <td>6.333333</td>\n",
              "      <td>2</td>\n",
              "      <td>1</td>\n",
              "      <td>0.800000</td>\n",
              "    </tr>\n",
              "  </tbody>\n",
              "</table>\n",
              "</div>"
            ],
            "text/plain": [
              "  network_id  nodes  edges  ...  diameter  radius   density\n",
              "0     recent      6     13  ...         2       1  0.866667\n",
              "1      older      6     12  ...         2       1  0.800000\n",
              "\n",
              "[2 rows x 9 columns]"
            ]
          },
          "metadata": {
            "tags": []
          },
          "execution_count": 12
        }
      ]
    },
    {
      "cell_type": "markdown",
      "metadata": {
        "id": "NB1_-2O6IgOb"
      },
      "source": [
        "Based on the above, the nodes in the recent network have higher degree, weighted degree and density values on average as compared to the older network. On the other hand, the recent network has an extra edge as compared to the older network."
      ]
    },
    {
      "cell_type": "code",
      "metadata": {
        "colab": {
          "base_uri": "https://localhost:8080/",
          "height": 421
        },
        "id": "Ug4KoYmoImI5",
        "outputId": "8f616262-cffb-437d-b7dd-38b7dde5418f"
      },
      "source": [
        "df2 = pd.read_excel(\"/content/drive/My Drive/Colab Notebooks/harrypotter_analysis/nodeInfo.xlsx\")\r\n",
        "df2"
      ],
      "execution_count": 13,
      "outputs": [
        {
          "output_type": "execute_result",
          "data": {
            "text/html": [
              "<div>\n",
              "<style scoped>\n",
              "    .dataframe tbody tr th:only-of-type {\n",
              "        vertical-align: middle;\n",
              "    }\n",
              "\n",
              "    .dataframe tbody tr th {\n",
              "        vertical-align: top;\n",
              "    }\n",
              "\n",
              "    .dataframe thead th {\n",
              "        text-align: right;\n",
              "    }\n",
              "</style>\n",
              "<table border=\"1\" class=\"dataframe\">\n",
              "  <thead>\n",
              "    <tr style=\"text-align: right;\">\n",
              "      <th></th>\n",
              "      <th>Unnamed: 0</th>\n",
              "      <th>label</th>\n",
              "      <th>degree</th>\n",
              "      <th>weighted_degree</th>\n",
              "      <th>betweenness</th>\n",
              "      <th>normalized_betweenness</th>\n",
              "      <th>eccentricity</th>\n",
              "      <th>closeness</th>\n",
              "      <th>network</th>\n",
              "    </tr>\n",
              "  </thead>\n",
              "  <tbody>\n",
              "    <tr>\n",
              "      <th>0</th>\n",
              "      <td>0</td>\n",
              "      <td>David Yates</td>\n",
              "      <td>5</td>\n",
              "      <td>15</td>\n",
              "      <td>0.666667</td>\n",
              "      <td>0.066667</td>\n",
              "      <td>1</td>\n",
              "      <td>1.000000</td>\n",
              "      <td>recent</td>\n",
              "    </tr>\n",
              "    <tr>\n",
              "      <th>1</th>\n",
              "      <td>1</td>\n",
              "      <td>Michael Goldenberg</td>\n",
              "      <td>3</td>\n",
              "      <td>3</td>\n",
              "      <td>0.000000</td>\n",
              "      <td>0.000000</td>\n",
              "      <td>2</td>\n",
              "      <td>0.714286</td>\n",
              "      <td>recent</td>\n",
              "    </tr>\n",
              "    <tr>\n",
              "      <th>2</th>\n",
              "      <td>2</td>\n",
              "      <td>David Heyman</td>\n",
              "      <td>5</td>\n",
              "      <td>15</td>\n",
              "      <td>0.666667</td>\n",
              "      <td>0.066667</td>\n",
              "      <td>1</td>\n",
              "      <td>1.000000</td>\n",
              "      <td>recent</td>\n",
              "    </tr>\n",
              "    <tr>\n",
              "      <th>3</th>\n",
              "      <td>3</td>\n",
              "      <td>David Barron</td>\n",
              "      <td>5</td>\n",
              "      <td>15</td>\n",
              "      <td>0.666667</td>\n",
              "      <td>0.066667</td>\n",
              "      <td>1</td>\n",
              "      <td>1.000000</td>\n",
              "      <td>recent</td>\n",
              "    </tr>\n",
              "    <tr>\n",
              "      <th>4</th>\n",
              "      <td>4</td>\n",
              "      <td>Steve Kloves</td>\n",
              "      <td>4</td>\n",
              "      <td>12</td>\n",
              "      <td>0.000000</td>\n",
              "      <td>0.000000</td>\n",
              "      <td>2</td>\n",
              "      <td>0.833333</td>\n",
              "      <td>recent</td>\n",
              "    </tr>\n",
              "    <tr>\n",
              "      <th>5</th>\n",
              "      <td>5</td>\n",
              "      <td>J. K. Rowling</td>\n",
              "      <td>4</td>\n",
              "      <td>12</td>\n",
              "      <td>0.000000</td>\n",
              "      <td>0.000000</td>\n",
              "      <td>2</td>\n",
              "      <td>0.833333</td>\n",
              "      <td>recent</td>\n",
              "    </tr>\n",
              "    <tr>\n",
              "      <th>6</th>\n",
              "      <td>6</td>\n",
              "      <td>Chris Columbus</td>\n",
              "      <td>4</td>\n",
              "      <td>8</td>\n",
              "      <td>0.000000</td>\n",
              "      <td>0.000000</td>\n",
              "      <td>2</td>\n",
              "      <td>0.833333</td>\n",
              "      <td>older</td>\n",
              "    </tr>\n",
              "    <tr>\n",
              "      <th>7</th>\n",
              "      <td>7</td>\n",
              "      <td>Steve Kloves</td>\n",
              "      <td>5</td>\n",
              "      <td>10</td>\n",
              "      <td>1.500000</td>\n",
              "      <td>0.150000</td>\n",
              "      <td>1</td>\n",
              "      <td>1.000000</td>\n",
              "      <td>older</td>\n",
              "    </tr>\n",
              "    <tr>\n",
              "      <th>8</th>\n",
              "      <td>8</td>\n",
              "      <td>David Heyman</td>\n",
              "      <td>5</td>\n",
              "      <td>10</td>\n",
              "      <td>1.500000</td>\n",
              "      <td>0.150000</td>\n",
              "      <td>1</td>\n",
              "      <td>1.000000</td>\n",
              "      <td>older</td>\n",
              "    </tr>\n",
              "    <tr>\n",
              "      <th>9</th>\n",
              "      <td>9</td>\n",
              "      <td>Alfonso Cuarón</td>\n",
              "      <td>4</td>\n",
              "      <td>4</td>\n",
              "      <td>0.000000</td>\n",
              "      <td>0.000000</td>\n",
              "      <td>2</td>\n",
              "      <td>0.833333</td>\n",
              "      <td>older</td>\n",
              "    </tr>\n",
              "    <tr>\n",
              "      <th>10</th>\n",
              "      <td>10</td>\n",
              "      <td>Mark Radcliffe</td>\n",
              "      <td>4</td>\n",
              "      <td>4</td>\n",
              "      <td>0.000000</td>\n",
              "      <td>0.000000</td>\n",
              "      <td>2</td>\n",
              "      <td>0.833333</td>\n",
              "      <td>older</td>\n",
              "    </tr>\n",
              "    <tr>\n",
              "      <th>11</th>\n",
              "      <td>11</td>\n",
              "      <td>Mike Newell</td>\n",
              "      <td>2</td>\n",
              "      <td>2</td>\n",
              "      <td>0.000000</td>\n",
              "      <td>0.000000</td>\n",
              "      <td>2</td>\n",
              "      <td>0.625000</td>\n",
              "      <td>older</td>\n",
              "    </tr>\n",
              "  </tbody>\n",
              "</table>\n",
              "</div>"
            ],
            "text/plain": [
              "    Unnamed: 0               label  degree  ...  eccentricity  closeness  network\n",
              "0            0         David Yates       5  ...             1   1.000000   recent\n",
              "1            1  Michael Goldenberg       3  ...             2   0.714286   recent\n",
              "2            2        David Heyman       5  ...             1   1.000000   recent\n",
              "3            3        David Barron       5  ...             1   1.000000   recent\n",
              "4            4        Steve Kloves       4  ...             2   0.833333   recent\n",
              "5            5       J. K. Rowling       4  ...             2   0.833333   recent\n",
              "6            6      Chris Columbus       4  ...             2   0.833333    older\n",
              "7            7        Steve Kloves       5  ...             1   1.000000    older\n",
              "8            8        David Heyman       5  ...             1   1.000000    older\n",
              "9            9      Alfonso Cuarón       4  ...             2   0.833333    older\n",
              "10          10      Mark Radcliffe       4  ...             2   0.833333    older\n",
              "11          11         Mike Newell       2  ...             2   0.625000    older\n",
              "\n",
              "[12 rows x 9 columns]"
            ]
          },
          "metadata": {
            "tags": []
          },
          "execution_count": 13
        }
      ]
    },
    {
      "cell_type": "code",
      "metadata": {
        "colab": {
          "base_uri": "https://localhost:8080/",
          "height": 297
        },
        "id": "dEVNaCo7I2yo",
        "outputId": "a13f9aa9-a50a-47ac-daa2-cbf9e3186bef"
      },
      "source": [
        "sns.barplot(data=df2, x=\"network\",y=\"degree\")"
      ],
      "execution_count": 14,
      "outputs": [
        {
          "output_type": "execute_result",
          "data": {
            "text/plain": [
              "<matplotlib.axes._subplots.AxesSubplot at 0x7f38c2c042d0>"
            ]
          },
          "metadata": {
            "tags": []
          },
          "execution_count": 14
        },
        {
          "output_type": "display_data",
          "data": {
            "image/png": "[encoded data removed]",
            "text/plain": [
              "<Figure size 432x288 with 1 Axes>"
            ]
          },
          "metadata": {
            "tags": [],
            "needs_background": "light"
          }
        }
      ]
    },
    {
      "cell_type": "code",
      "metadata": {
        "colab": {
          "base_uri": "https://localhost:8080/",
          "height": 421
        },
        "id": "KX19zQsCJqYS",
        "outputId": "1114c6d1-6215-40ed-94b6-f8cf80225529"
      },
      "source": [
        "df2.sort_values(by=\"closeness\",ascending=False)"
      ],
      "execution_count": 15,
      "outputs": [
        {
          "output_type": "execute_result",
          "data": {
            "text/html": [
              "<div>\n",
              "<style scoped>\n",
              "    .dataframe tbody tr th:only-of-type {\n",
              "        vertical-align: middle;\n",
              "    }\n",
              "\n",
              "    .dataframe tbody tr th {\n",
              "        vertical-align: top;\n",
              "    }\n",
              "\n",
              "    .dataframe thead th {\n",
              "        text-align: right;\n",
              "    }\n",
              "</style>\n",
              "<table border=\"1\" class=\"dataframe\">\n",
              "  <thead>\n",
              "    <tr style=\"text-align: right;\">\n",
              "      <th></th>\n",
              "      <th>Unnamed: 0</th>\n",
              "      <th>label</th>\n",
              "      <th>degree</th>\n",
              "      <th>weighted_degree</th>\n",
              "      <th>betweenness</th>\n",
              "      <th>normalized_betweenness</th>\n",
              "      <th>eccentricity</th>\n",
              "      <th>closeness</th>\n",
              "      <th>network</th>\n",
              "    </tr>\n",
              "  </thead>\n",
              "  <tbody>\n",
              "    <tr>\n",
              "      <th>0</th>\n",
              "      <td>0</td>\n",
              "      <td>David Yates</td>\n",
              "      <td>5</td>\n",
              "      <td>15</td>\n",
              "      <td>0.666667</td>\n",
              "      <td>0.066667</td>\n",
              "      <td>1</td>\n",
              "      <td>1.000000</td>\n",
              "      <td>recent</td>\n",
              "    </tr>\n",
              "    <tr>\n",
              "      <th>2</th>\n",
              "      <td>2</td>\n",
              "      <td>David Heyman</td>\n",
              "      <td>5</td>\n",
              "      <td>15</td>\n",
              "      <td>0.666667</td>\n",
              "      <td>0.066667</td>\n",
              "      <td>1</td>\n",
              "      <td>1.000000</td>\n",
              "      <td>recent</td>\n",
              "    </tr>\n",
              "    <tr>\n",
              "      <th>3</th>\n",
              "      <td>3</td>\n",
              "      <td>David Barron</td>\n",
              "      <td>5</td>\n",
              "      <td>15</td>\n",
              "      <td>0.666667</td>\n",
              "      <td>0.066667</td>\n",
              "      <td>1</td>\n",
              "      <td>1.000000</td>\n",
              "      <td>recent</td>\n",
              "    </tr>\n",
              "    <tr>\n",
              "      <th>7</th>\n",
              "      <td>7</td>\n",
              "      <td>Steve Kloves</td>\n",
              "      <td>5</td>\n",
              "      <td>10</td>\n",
              "      <td>1.500000</td>\n",
              "      <td>0.150000</td>\n",
              "      <td>1</td>\n",
              "      <td>1.000000</td>\n",
              "      <td>older</td>\n",
              "    </tr>\n",
              "    <tr>\n",
              "      <th>8</th>\n",
              "      <td>8</td>\n",
              "      <td>David Heyman</td>\n",
              "      <td>5</td>\n",
              "      <td>10</td>\n",
              "      <td>1.500000</td>\n",
              "      <td>0.150000</td>\n",
              "      <td>1</td>\n",
              "      <td>1.000000</td>\n",
              "      <td>older</td>\n",
              "    </tr>\n",
              "    <tr>\n",
              "      <th>4</th>\n",
              "      <td>4</td>\n",
              "      <td>Steve Kloves</td>\n",
              "      <td>4</td>\n",
              "      <td>12</td>\n",
              "      <td>0.000000</td>\n",
              "      <td>0.000000</td>\n",
              "      <td>2</td>\n",
              "      <td>0.833333</td>\n",
              "      <td>recent</td>\n",
              "    </tr>\n",
              "    <tr>\n",
              "      <th>5</th>\n",
              "      <td>5</td>\n",
              "      <td>J. K. Rowling</td>\n",
              "      <td>4</td>\n",
              "      <td>12</td>\n",
              "      <td>0.000000</td>\n",
              "      <td>0.000000</td>\n",
              "      <td>2</td>\n",
              "      <td>0.833333</td>\n",
              "      <td>recent</td>\n",
              "    </tr>\n",
              "    <tr>\n",
              "      <th>6</th>\n",
              "      <td>6</td>\n",
              "      <td>Chris Columbus</td>\n",
              "      <td>4</td>\n",
              "      <td>8</td>\n",
              "      <td>0.000000</td>\n",
              "      <td>0.000000</td>\n",
              "      <td>2</td>\n",
              "      <td>0.833333</td>\n",
              "      <td>older</td>\n",
              "    </tr>\n",
              "    <tr>\n",
              "      <th>9</th>\n",
              "      <td>9</td>\n",
              "      <td>Alfonso Cuarón</td>\n",
              "      <td>4</td>\n",
              "      <td>4</td>\n",
              "      <td>0.000000</td>\n",
              "      <td>0.000000</td>\n",
              "      <td>2</td>\n",
              "      <td>0.833333</td>\n",
              "      <td>older</td>\n",
              "    </tr>\n",
              "    <tr>\n",
              "      <th>10</th>\n",
              "      <td>10</td>\n",
              "      <td>Mark Radcliffe</td>\n",
              "      <td>4</td>\n",
              "      <td>4</td>\n",
              "      <td>0.000000</td>\n",
              "      <td>0.000000</td>\n",
              "      <td>2</td>\n",
              "      <td>0.833333</td>\n",
              "      <td>older</td>\n",
              "    </tr>\n",
              "    <tr>\n",
              "      <th>1</th>\n",
              "      <td>1</td>\n",
              "      <td>Michael Goldenberg</td>\n",
              "      <td>3</td>\n",
              "      <td>3</td>\n",
              "      <td>0.000000</td>\n",
              "      <td>0.000000</td>\n",
              "      <td>2</td>\n",
              "      <td>0.714286</td>\n",
              "      <td>recent</td>\n",
              "    </tr>\n",
              "    <tr>\n",
              "      <th>11</th>\n",
              "      <td>11</td>\n",
              "      <td>Mike Newell</td>\n",
              "      <td>2</td>\n",
              "      <td>2</td>\n",
              "      <td>0.000000</td>\n",
              "      <td>0.000000</td>\n",
              "      <td>2</td>\n",
              "      <td>0.625000</td>\n",
              "      <td>older</td>\n",
              "    </tr>\n",
              "  </tbody>\n",
              "</table>\n",
              "</div>"
            ],
            "text/plain": [
              "    Unnamed: 0               label  degree  ...  eccentricity  closeness  network\n",
              "0            0         David Yates       5  ...             1   1.000000   recent\n",
              "2            2        David Heyman       5  ...             1   1.000000   recent\n",
              "3            3        David Barron       5  ...             1   1.000000   recent\n",
              "7            7        Steve Kloves       5  ...             1   1.000000    older\n",
              "8            8        David Heyman       5  ...             1   1.000000    older\n",
              "4            4        Steve Kloves       4  ...             2   0.833333   recent\n",
              "5            5       J. K. Rowling       4  ...             2   0.833333   recent\n",
              "6            6      Chris Columbus       4  ...             2   0.833333    older\n",
              "9            9      Alfonso Cuarón       4  ...             2   0.833333    older\n",
              "10          10      Mark Radcliffe       4  ...             2   0.833333    older\n",
              "1            1  Michael Goldenberg       3  ...             2   0.714286   recent\n",
              "11          11         Mike Newell       2  ...             2   0.625000    older\n",
              "\n",
              "[12 rows x 9 columns]"
            ]
          },
          "metadata": {
            "tags": []
          },
          "execution_count": 15
        }
      ]
    },
    {
      "cell_type": "markdown",
      "metadata": {
        "id": "axNM7y1xJvS3"
      },
      "source": [
        "Based on the above, the node representing Mike Newell (from the older network) has the lowest 'closeness' value of 0.625"
      ]
    },
    {
      "cell_type": "code",
      "metadata": {
        "colab": {
          "base_uri": "https://localhost:8080/",
          "height": 235
        },
        "id": "vEDgBG7_J8Yw",
        "outputId": "c628c575-14b5-4f20-81e4-fd670ecd577c"
      },
      "source": [
        "older = df2[\"network\"] == \"older\"\r\n",
        "df2.loc[older]"
      ],
      "execution_count": 17,
      "outputs": [
        {
          "output_type": "execute_result",
          "data": {
            "text/html": [
              "<div>\n",
              "<style scoped>\n",
              "    .dataframe tbody tr th:only-of-type {\n",
              "        vertical-align: middle;\n",
              "    }\n",
              "\n",
              "    .dataframe tbody tr th {\n",
              "        vertical-align: top;\n",
              "    }\n",
              "\n",
              "    .dataframe thead th {\n",
              "        text-align: right;\n",
              "    }\n",
              "</style>\n",
              "<table border=\"1\" class=\"dataframe\">\n",
              "  <thead>\n",
              "    <tr style=\"text-align: right;\">\n",
              "      <th></th>\n",
              "      <th>Unnamed: 0</th>\n",
              "      <th>label</th>\n",
              "      <th>degree</th>\n",
              "      <th>weighted_degree</th>\n",
              "      <th>betweenness</th>\n",
              "      <th>normalized_betweenness</th>\n",
              "      <th>eccentricity</th>\n",
              "      <th>closeness</th>\n",
              "      <th>network</th>\n",
              "    </tr>\n",
              "  </thead>\n",
              "  <tbody>\n",
              "    <tr>\n",
              "      <th>6</th>\n",
              "      <td>6</td>\n",
              "      <td>Chris Columbus</td>\n",
              "      <td>4</td>\n",
              "      <td>8</td>\n",
              "      <td>0.0</td>\n",
              "      <td>0.00</td>\n",
              "      <td>2</td>\n",
              "      <td>0.833333</td>\n",
              "      <td>older</td>\n",
              "    </tr>\n",
              "    <tr>\n",
              "      <th>7</th>\n",
              "      <td>7</td>\n",
              "      <td>Steve Kloves</td>\n",
              "      <td>5</td>\n",
              "      <td>10</td>\n",
              "      <td>1.5</td>\n",
              "      <td>0.15</td>\n",
              "      <td>1</td>\n",
              "      <td>1.000000</td>\n",
              "      <td>older</td>\n",
              "    </tr>\n",
              "    <tr>\n",
              "      <th>8</th>\n",
              "      <td>8</td>\n",
              "      <td>David Heyman</td>\n",
              "      <td>5</td>\n",
              "      <td>10</td>\n",
              "      <td>1.5</td>\n",
              "      <td>0.15</td>\n",
              "      <td>1</td>\n",
              "      <td>1.000000</td>\n",
              "      <td>older</td>\n",
              "    </tr>\n",
              "    <tr>\n",
              "      <th>9</th>\n",
              "      <td>9</td>\n",
              "      <td>Alfonso Cuarón</td>\n",
              "      <td>4</td>\n",
              "      <td>4</td>\n",
              "      <td>0.0</td>\n",
              "      <td>0.00</td>\n",
              "      <td>2</td>\n",
              "      <td>0.833333</td>\n",
              "      <td>older</td>\n",
              "    </tr>\n",
              "    <tr>\n",
              "      <th>10</th>\n",
              "      <td>10</td>\n",
              "      <td>Mark Radcliffe</td>\n",
              "      <td>4</td>\n",
              "      <td>4</td>\n",
              "      <td>0.0</td>\n",
              "      <td>0.00</td>\n",
              "      <td>2</td>\n",
              "      <td>0.833333</td>\n",
              "      <td>older</td>\n",
              "    </tr>\n",
              "    <tr>\n",
              "      <th>11</th>\n",
              "      <td>11</td>\n",
              "      <td>Mike Newell</td>\n",
              "      <td>2</td>\n",
              "      <td>2</td>\n",
              "      <td>0.0</td>\n",
              "      <td>0.00</td>\n",
              "      <td>2</td>\n",
              "      <td>0.625000</td>\n",
              "      <td>older</td>\n",
              "    </tr>\n",
              "  </tbody>\n",
              "</table>\n",
              "</div>"
            ],
            "text/plain": [
              "    Unnamed: 0           label  degree  ...  eccentricity  closeness  network\n",
              "6            6  Chris Columbus       4  ...             2   0.833333    older\n",
              "7            7    Steve Kloves       5  ...             1   1.000000    older\n",
              "8            8    David Heyman       5  ...             1   1.000000    older\n",
              "9            9  Alfonso Cuarón       4  ...             2   0.833333    older\n",
              "10          10  Mark Radcliffe       4  ...             2   0.833333    older\n",
              "11          11     Mike Newell       2  ...             2   0.625000    older\n",
              "\n",
              "[6 rows x 9 columns]"
            ]
          },
          "metadata": {
            "tags": []
          },
          "execution_count": 17
        }
      ]
    },
    {
      "cell_type": "code",
      "metadata": {
        "colab": {
          "base_uri": "https://localhost:8080/",
          "height": 296
        },
        "id": "lW1m0iWiK3V8",
        "outputId": "734fa1a2-9753-4f5f-ded6-c6fce13d9273"
      },
      "source": [
        "sns.histplot(x=\"degree\", data=df2.loc[older])"
      ],
      "execution_count": 18,
      "outputs": [
        {
          "output_type": "execute_result",
          "data": {
            "text/plain": [
              "<matplotlib.axes._subplots.AxesSubplot at 0x7f38c2578a90>"
            ]
          },
          "metadata": {
            "tags": []
          },
          "execution_count": 18
        },
        {
          "output_type": "display_data",
          "data": {
            "image/png": "[encoded data removed]",
            "text/plain": [
              "<Figure size 432x288 with 1 Axes>"
            ]
          },
          "metadata": {
            "tags": [],
            "needs_background": "light"
          }
        }
      ]
    },
    {
      "cell_type": "code",
      "metadata": {
        "colab": {
          "base_uri": "https://localhost:8080/",
          "height": 567
        },
        "id": "gA0ljU1hLp9N",
        "outputId": "324919c0-dfab-4813-f39c-dc81bd34bd6c"
      },
      "source": [
        "sns.pairplot(df2,vars=[\"weighted_degree\",\"closeness\",\"normalized_betweenness\"],\r\n",
        "             hue=\"network\",plot_kws={'alpha': 0.7})"
      ],
      "execution_count": 19,
      "outputs": [
        {
          "output_type": "execute_result",
          "data": {
            "text/plain": [
              "<seaborn.axisgrid.PairGrid at 0x7f38c1ad4550>"
            ]
          },
          "metadata": {
            "tags": []
          },
          "execution_count": 19
        },
        {
          "output_type": "display_data",
          "data": {
            "image/png": "[encoded data removed]",
            "text/plain": [
              "<Figure size 607.875x540 with 12 Axes>"
            ]
          },
          "metadata": {
            "tags": [],
            "needs_background": "light"
          }
        }
      ]
    },
    {
      "cell_type": "markdown",
      "metadata": {
        "id": "hBYjmOI_L0IP"
      },
      "source": [
        "Based on the above, it seems that the spread of weighted degree values is wider in the recent network compared to the older network, meaning that the weighted degree values of the nodes in the older network are more consistent. On the other hand, The spreads of the closeness and normalized betweenness values are wider in the older network, meaning that the corresponding values are less consistent as compared to the recent network. These can be determined from the KDE plots in the pair plot."
      ]
    }
  ]
}